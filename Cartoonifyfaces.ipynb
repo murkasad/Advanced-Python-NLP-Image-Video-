{
 "cells": [
  {
   "cell_type": "code",
   "execution_count": 2,
   "metadata": {},
   "outputs": [],
   "source": [
    "import cv2\n",
    "import os\n",
    "import cv2\n",
    "import os\n",
    "import mahotas\n",
    "import matplotlib.pyplot as plt\n",
    "import numpy as np\n",
    "\n",
    "\n",
    "cascPathface = os.path.dirname(\n",
    "    cv2.__file__) + \"/data/haarcascade_frontalface_alt2.xml\"\n",
    "cascPatheyes = os.path.dirname(\n",
    "    cv2.__file__) + \"/data/haarcascade_eye_tree_eyeglasses.xml\"\n",
    "\n",
    "faceCascade = cv2.CascadeClassifier(cascPathface)\n",
    "eyeCascade = cv2.CascadeClassifier(cascPatheyes)\n",
    "\n",
    "video_capture = cv2.VideoCapture(0)\n",
    "\n",
    "while True:\n",
    "    ret, frame = video_capture.read()\n",
    "    gray = cv2.cvtColor(frame, cv2.COLOR_BGR2GRAY)\n",
    "    faces = faceCascade.detectMultiScale(gray,\n",
    "                                         scaleFactor=1.1,\n",
    "                                         minNeighbors=5,\n",
    "                                         minSize=(60, 60),\n",
    "                                         flags=cv2.CASCADE_SCALE_IMAGE)\n",
    "    for (x,y,w,h) in faces:\n",
    "        \n",
    "        c=25 #for putting object extended a bit out of the face boundaries\n",
    "        \n",
    "        faceROI = frame[y-c:y+h+c,x-c:x+w+c]\n",
    "        fh, fw,_=faceROI.shape\n",
    "       \n",
    "        #image preprocessing according to the ROI\n",
    "        img2 = cv2.imread('ppg.png')\n",
    "        img2=cv2.resize(img2, (fw, fh),interpolation = cv2.INTER_AREA )\n",
    "        img2gray = cv2.cvtColor(img2,cv2.COLOR_BGR2GRAY)\n",
    "        \n",
    "        ret1, mask = cv2.threshold(img2gray, 229, 255, cv2.THRESH_BINARY_INV)\n",
    "        mask_inv = cv2.bitwise_not(mask)\n",
    "\n",
    "        img1_bg = cv2.bitwise_and(faceROI,faceROI,mask = mask_inv)\n",
    "        img2_fg = cv2.bitwise_and(img2,img2,mask = mask)\n",
    "        dst = cv2.add(img1_bg,img2_fg)\n",
    "        \n",
    "        frame[y-c:y+h+c,x-c:x+w+c] = dst\n",
    "\n",
    "    # Display the resulting frame\n",
    "    cv2.imshow('Face Video', frame)\n",
    "    if cv2.waitKey(1) & 0xFF == ord('q'):\n",
    "        break\n",
    "\n",
    "video_capture.release()\n",
    "cv2.destroyAllWindows()"
   ]
  },
  {
   "cell_type": "code",
   "execution_count": null,
   "metadata": {},
   "outputs": [],
   "source": []
  }
 ],
 "metadata": {
  "kernelspec": {
   "display_name": "Python 3 (ipykernel)",
   "language": "python",
   "name": "python3"
  },
  "language_info": {
   "codemirror_mode": {
    "name": "ipython",
    "version": 3
   },
   "file_extension": ".py",
   "mimetype": "text/x-python",
   "name": "python",
   "nbconvert_exporter": "python",
   "pygments_lexer": "ipython3",
   "version": "3.9.13"
  }
 },
 "nbformat": 4,
 "nbformat_minor": 4
}
